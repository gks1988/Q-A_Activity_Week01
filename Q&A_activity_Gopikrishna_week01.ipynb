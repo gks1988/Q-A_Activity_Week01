{
 "cells": [
  {
   "cell_type": "markdown",
   "metadata": {
    "id": "4z_Z-K1tlrS7"
   },
   "source": [
    "## 1. Complete the following code to find the area of an equilateral triangle. Output should be as displayed"
   ]
  },
  {
   "cell_type": "code",
   "execution_count": 2,
   "metadata": {
    "colab": {
     "base_uri": "https://localhost:8080/"
    },
    "id": "rP2qFD_SlrS_",
    "outputId": "c3aaf35d-a160-451d-f1bf-ee02c3b7ea77"
   },
   "outputs": [
    {
     "name": "stdout",
     "output_type": "stream",
     "text": [
      "Enter the side of the equilateral triangle: 4\n",
      "6.928\n"
     ]
    }
   ],
   "source": [
    "import math\n",
    "side = float(input(\"Enter the side of the equilateral triangle: \"))\n",
    "area = ((math.sqrt(3))/4)*pow(side, 2)\n",
    "print(round(area, 3))\n"
   ]
  },
  {
   "cell_type": "markdown",
   "metadata": {
    "id": "TjVKjIfclrTB"
   },
   "source": [
    "## 2. Write a program to count the number of each characters in a string"
   ]
  },
  {
   "cell_type": "code",
   "execution_count": 11,
   "metadata": {
    "id": "JY5seVUQlrTC"
   },
   "outputs": [
    {
     "name": "stdout",
     "output_type": "stream",
     "text": [
      "enter the word: gopi\n",
      "g = 1\n",
      "o = 1\n",
      "p = 1\n",
      "i = 1\n"
     ]
    }
   ],
   "source": [
    "word = input('enter the word: ')\n",
    "for i in word:\n",
    "    print(i, '=', word.count(i))"
   ]
  },
  {
   "cell_type": "markdown",
   "metadata": {
    "id": "l3LCULfklrTD"
   },
   "source": [
    "## Write a program to find the area and perimeter of a rectangle using functions"
   ]
  },
  {
   "cell_type": "code",
   "execution_count": 14,
   "metadata": {
    "id": "8haQD8edlrTD"
   },
   "outputs": [
    {
     "name": "stdout",
     "output_type": "stream",
     "text": [
      "enter the length of rectangle 4\n",
      "enter the width of rectangle 5\n",
      "Area of rectangle is 20.0\n",
      "Perimeter of rectangle is 18.0\n"
     ]
    }
   ],
   "source": [
    "def area_rectangle(length, width):\n",
    "    return(length*width)\n",
    "def perimeter_rectangle(length, width):\n",
    "    return(2*(length+width))\n",
    "length = float(input('enter the length of rectangle '))\n",
    "width = float(input('enter the width of rectangle '))\n",
    "print('Area of rectangle is', area_rectangle(length, width))\n",
    "print('Perimeter of rectangle is', perimeter_rectangle(length, width))"
   ]
  },
  {
   "cell_type": "markdown",
   "metadata": {
    "id": "JHK4ZdsflrTE"
   },
   "source": [
    "## 4. Write a program to print the fibonacci series till a specified number"
   ]
  },
  {
   "cell_type": "code",
   "execution_count": null,
   "metadata": {
    "id": "LyBEj-4SlrTE"
   },
   "outputs": [],
   "source": []
  },
  {
   "cell_type": "markdown",
   "metadata": {
    "id": "u4uBUcQKlrTE"
   },
   "source": [
    "## 5. Complete the following code to find the minimum of 3 number using cinditional statements. Output should be as displayed"
   ]
  },
  {
   "cell_type": "code",
   "execution_count": 10,
   "metadata": {
    "id": "XdZwrZjIlrTF"
   },
   "outputs": [
    {
     "name": "stdout",
     "output_type": "stream",
     "text": [
      "Enter three numbers followed by space : 2 3 -1\n",
      "First number : 2\n",
      "Second number : 3\n",
      "Third number : -1\n",
      "-1  is smallest\n"
     ]
    }
   ],
   "source": [
    "a,b,c = input(\"Enter three numbers followed by space : \").split()\n",
    "print(\"First number :\",a)\n",
    "print(\"Second number :\",b)\n",
    "print(\"Third number :\",c)\n",
    "if (a<b and a<c):\n",
    "    print(a,\" is smallest\")\n",
    "if (b<a and b<c):\n",
    "    print(b,\" is smallest\")\n",
    "if (c<a and c<b):\n",
    "    print(c,\" is smallest\")\n",
    "if (a==b==c):\n",
    "    print(\"Entered numbers are equal!!!\")"
   ]
  },
  {
   "cell_type": "markdown",
   "metadata": {
    "id": "aR_CnToWlrTG"
   },
   "source": [
    "## 6. Write a program to print star pyramind. The number of rows should be taken as input from the user"
   ]
  },
  {
   "cell_type": "code",
   "execution_count": null,
   "metadata": {
    "id": "M37A-buplrTG"
   },
   "outputs": [],
   "source": []
  },
  {
   "cell_type": "markdown",
   "metadata": {
    "id": "tlY6aFWBlrTH"
   },
   "source": [
    "## 7. Complete the following code to convert hour into seconds. Output should be as displayed"
   ]
  },
  {
   "cell_type": "code",
   "execution_count": 8,
   "metadata": {
    "colab": {
     "base_uri": "https://localhost:8080/"
    },
    "id": "YOZQFk7FlrTH",
    "outputId": "164a6040-159f-4634-d98c-3851bc772288"
   },
   "outputs": [
    {
     "name": "stdout",
     "output_type": "stream",
     "text": [
      "Enter time in hours : 6\n",
      "6 Hour is equal to 21600 Seconds\n"
     ]
    }
   ],
   "source": [
    "def to_seconds(t):\n",
    "    s=t*3600\n",
    "    return s\n",
    "time_in_hours = int(input(\"Enter time in hours : \"))\n",
    "print(time_in_hours,\"Hour is equal to\",to_seconds(time_in_hours),\"Seconds\")"
   ]
  },
  {
   "cell_type": "markdown",
   "metadata": {
    "id": "CnYorNiLlrTI"
   },
   "source": [
    "## 8. Write a program to print multiplication table as below"
   ]
  },
  {
   "cell_type": "code",
   "execution_count": 5,
   "metadata": {
    "colab": {
     "base_uri": "https://localhost:8080/"
    },
    "id": "dPQqDPuDlrTI",
    "outputId": "1fd8646d-bf0c-44a8-c3e6-663e5d5da748"
   },
   "outputs": [
    {
     "name": "stdout",
     "output_type": "stream",
     "text": [
      "enter a number for multiplication table\n",
      "4\n",
      "1 x 4 = 4\n",
      "2 x 4 = 8\n",
      "3 x 4 = 12\n",
      "4 x 4 = 16\n",
      "5 x 4 = 20\n",
      "6 x 4 = 24\n",
      "7 x 4 = 28\n",
      "8 x 4 = 32\n",
      "9 x 4 = 36\n",
      "10 x 4 = 40\n"
     ]
    }
   ],
   "source": [
    "y=int(input(\"enter a number for multiplication table\\n\"))\n",
    "for i in range(1,11):\n",
    "    print(i,'x', y, '=', i*y)"
   ]
  },
  {
   "cell_type": "markdown",
   "metadata": {
    "id": "Fiaez8iblrTI"
   },
   "source": [
    "## 9. Write a program to take your 5 favorite food as list and print each as 'I like Biriyani'"
   ]
  },
  {
   "cell_type": "code",
   "execution_count": 4,
   "metadata": {
    "colab": {
     "base_uri": "https://localhost:8080/"
    },
    "id": "39W1zFX7lrTJ",
    "outputId": "d9a7e962-0319-4f09-db93-13b7a379a7ae"
   },
   "outputs": [
    {
     "name": "stdout",
     "output_type": "stream",
     "text": [
      "enter your favourite food\n",
      "Apple Orange Mango Watermelon Pomegranate\n",
      "I like Apple\n",
      "I like Orange\n",
      "I like Mango\n",
      "I like Watermelon\n",
      "I like Pomegranate\n"
     ]
    }
   ],
   "source": [
    "a, b, c, d, e = input('enter your favourite food\\n').split()\n",
    "Food_List = [a, b, c, d, e]\n",
    "for i in Food_List:\n",
    "    print(\"I like\", i)"
   ]
  },
  {
   "cell_type": "markdown",
   "metadata": {
    "id": "3vlcDNNEP7d_"
   },
   "source": [
    "## 10. Find error(s) in the following code(if any) and rewrite code.\n",
    "\n"
   ]
  },
  {
   "cell_type": "code",
   "execution_count": 3,
   "metadata": {
    "id": "coREkcY3P9sG"
   },
   "outputs": [
    {
     "name": "stdout",
     "output_type": "stream",
     "text": [
      "Enter value of x1\n",
      "They are unequal\n",
      "They are equal\n",
      "They are unequal\n",
      "They are unequal\n",
      "They are unequal\n",
      "They are unequal\n",
      "They are unequal\n",
      "They are unequal\n",
      "They are unequal\n",
      "They are unequal\n"
     ]
    }
   ],
   "source": [
    "x= int(input('Enter value of x'))\n",
    "for y in range (0,10):\n",
    "        if x==y:\n",
    "            print(\"They are equal\")\n",
    "        else:\n",
    "            print( \"They are unequal\")"
   ]
  }
 ],
 "metadata": {
  "colab": {
   "collapsed_sections": [],
   "name": "Q&A activity student file.ipynb",
   "provenance": []
  },
  "kernelspec": {
   "display_name": "Python 3",
   "language": "python",
   "name": "python3"
  },
  "language_info": {
   "codemirror_mode": {
    "name": "ipython",
    "version": 3
   },
   "file_extension": ".py",
   "mimetype": "text/x-python",
   "name": "python",
   "nbconvert_exporter": "python",
   "pygments_lexer": "ipython3",
   "version": "3.8.8"
  }
 },
 "nbformat": 4,
 "nbformat_minor": 1
}
